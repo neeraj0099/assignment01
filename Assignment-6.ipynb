{
 "cells": [
  {
   "cell_type": "markdown",
   "id": "7554fefe",
   "metadata": {},
   "source": [
    "Q.1. What are keywords in python? Using the keyword library, print all the python keywords.\n",
    "\n",
    "Ans.\n",
    "In Python, keywords are reserved words that have special meanings and purposes within the language. These keywords cannot be used as identifiers because they are already predefined by Python."
   ]
  },
  {
   "cell_type": "code",
   "execution_count": 3,
   "id": "2d0ead45",
   "metadata": {},
   "outputs": [
    {
     "name": "stdout",
     "output_type": "stream",
     "text": [
      "False\n",
      "None\n",
      "True\n",
      "__peg_parser__\n",
      "and\n",
      "as\n",
      "assert\n",
      "async\n",
      "await\n",
      "break\n",
      "class\n",
      "continue\n",
      "def\n",
      "del\n",
      "elif\n",
      "else\n",
      "except\n",
      "finally\n",
      "for\n",
      "from\n",
      "global\n",
      "if\n",
      "import\n",
      "in\n",
      "is\n",
      "lambda\n",
      "nonlocal\n",
      "not\n",
      "or\n",
      "pass\n",
      "raise\n",
      "return\n",
      "try\n",
      "while\n",
      "with\n",
      "yield\n"
     ]
    },
    {
     "data": {
      "text/plain": [
       "'output--False\\nNone\\nTrue\\n__peg_parser__\\nand\\nas\\nassert\\nasync\\nawait\\nbreak\\nclass\\ncontinue\\ndef\\ndel\\nelif\\nelse\\nexcept\\nfinally\\nfor\\nfrom\\nglobal\\nif\\nimport\\nin\\nis\\nlambda\\nnonlocal\\nnot\\nor\\npass\\nraise\\nreturn\\ntry\\nwhile\\nwith\\nyield'"
      ]
     },
     "execution_count": 3,
     "metadata": {},
     "output_type": "execute_result"
    }
   ],
   "source": [
    "import keyword\n",
    "\n",
    "# Get all the Python keywords\n",
    "keywords = keyword.kwlist\n",
    "\n",
    "# Print all the keywords\n",
    "for kw in keywords:\n",
    "    print(kw)\n",
    "'''output--False\n",
    "None\n",
    "True\n",
    "__peg_parser__\n",
    "and\n",
    "as\n",
    "assert\n",
    "async\n",
    "await\n",
    "break\n",
    "class\n",
    "continue\n",
    "def\n",
    "del\n",
    "elif\n",
    "else\n",
    "except\n",
    "finally\n",
    "for\n",
    "from\n",
    "global\n",
    "if\n",
    "import\n",
    "in\n",
    "is\n",
    "lambda\n",
    "nonlocal\n",
    "not\n",
    "or\n",
    "pass\n",
    "raise\n",
    "return\n",
    "try\n",
    "while\n",
    "with\n",
    "yield'''"
   ]
  },
  {
   "cell_type": "markdown",
   "id": "5f99a3ca",
   "metadata": {},
   "source": [
    "Q.2. What are the rules to create variables in python?\n",
    "\n",
    "Ans.\n",
    "\n",
    "In Python, variables serve as containers to store data values. To create variables, certain rules should be followed. Variable names may consist of letters (a-z, A-Z), digits (0-9), and underscores (_). They must begin with a letter or underscore, and case sensitivity applies, distinguishing \"myVar\" from \"myvar\" as separate variables. It is recommended to use lowercase letters for variable names and employ underscores for multiple-word variable names (e.g., my_variable). Reserved keywords such as \"if,\" \"while,\" and \"for\" cannot be used as variable names. Variables are established by assigning values to them using the \"=\" operator (e.g., x = 10 assigns 10 to the variable \"x\"). Python is a dynamically-typed language, meaning explicit declaration of variable data types is unnecessary. The data type is inferred based on the assigned value. Variables can be utilized in expressions, reassigned new values, and involved in various operations, but it's crucial to ensure variables are assigned values before employing them in calculations or operations."
   ]
  },
  {
   "cell_type": "code",
   "execution_count": 4,
   "id": "c40dac46",
   "metadata": {},
   "outputs": [],
   "source": [
    "x = 10\n",
    "my_var = \"Hello\"\n",
    "count = 5"
   ]
  },
  {
   "cell_type": "markdown",
   "id": "259e27d9",
   "metadata": {},
   "source": [
    "Q.3. What are the standards and conventions followed for the nomenclature of variables in python to improve code readability and maintainability?\n",
    "\n",
    "Ans.\n",
    "Following standardized naming conventions for variables in Python can greatly enhance code readability and maintainability.\n",
    ".Lowercase with Underscores:\n",
    "Example: my_variable, total_count.\n",
    ".Descriptive and Meaningful Names:\n",
    "Example: customer_name, num_students.\n",
    ".Avoid Reserved Keywords:\n",
    "Example: if_condition, while_loop.\n",
    ".Use Singular Nouns for Single Values and Plural Nouns for Collections:\n",
    "Example: car, cars.\n",
    ".Constants in Uppercase (ALL_CAPS):\n",
    "xample: MAX_VALUE, PI."
   ]
  },
  {
   "cell_type": "markdown",
   "id": "3e1edec2",
   "metadata": {},
   "source": [
    "Q.4. What will happen if a keyword is used as a variable name?\n",
    "\n",
    "Ans.\n",
    "If a keyword is used as a variable name in Python, it will result in a syntax error. Keywords are reserved words that have predefined meanings and purposes within the Python language."
   ]
  },
  {
   "cell_type": "code",
   "execution_count": 5,
   "id": "892d979b",
   "metadata": {},
   "outputs": [
    {
     "ename": "SyntaxError",
     "evalue": "invalid syntax (182722112.py, line 1)",
     "output_type": "error",
     "traceback": [
      "\u001b[1;36m  File \u001b[1;32m\"C:\\Users\\neera\\AppData\\Local\\Temp\\ipykernel_9104\\182722112.py\"\u001b[1;36m, line \u001b[1;32m1\u001b[0m\n\u001b[1;33m    if = 10\u001b[0m\n\u001b[1;37m       ^\u001b[0m\n\u001b[1;31mSyntaxError\u001b[0m\u001b[1;31m:\u001b[0m invalid syntax\n"
     ]
    }
   ],
   "source": [
    "if = 10 #SyntaxError: invalid syntax"
   ]
  },
  {
   "cell_type": "markdown",
   "id": "a7ed9e65",
   "metadata": {},
   "source": [
    "Q.5. For what purpose def keyword is used?\n",
    "\n",
    "Ans.\n",
    "In Python, the def keyword is used to define a function. Functions are blocks of reusable code that perform a specific task. The def keyword signals the start of a function definition and is followed by the function name and a set of parentheses that may contain parameters or arguments."
   ]
  },
  {
   "cell_type": "code",
   "execution_count": 6,
   "id": "b0e1b656",
   "metadata": {},
   "outputs": [
    {
     "name": "stdout",
     "output_type": "stream",
     "text": [
      "Hello, Alice!\n"
     ]
    }
   ],
   "source": [
    "def greet(name):\n",
    "    print(\"Hello, \" + name + \"!\")\n",
    "\n",
    "# Calling the function\n",
    "greet(\"Alice\")"
   ]
  },
  {
   "cell_type": "markdown",
   "id": "d15c79f2",
   "metadata": {},
   "source": [
    "Q.6. What is the operation of this special character ‘\\’?\n",
    "\n",
    "Ans.\n",
    "the backslash character '\\'is known as the escape character. It is used to include special characters within strings and to create escape sequences.\n",
    "\n",
    "Escaping Special Characters:\n",
    "Example: print(\"She said, \\\"Hello!\\\"\") will print: She said, \"Hello!\"\n",
    "\n",
    "Escape Sequences:\n",
    "Example: print(\"Line 1\\nLine 2\") will print:\n",
    "Line 1\n",
    "Line 2"
   ]
  },
  {
   "cell_type": "code",
   "execution_count": 8,
   "id": "3b8643c4",
   "metadata": {},
   "outputs": [
    {
     "name": "stdout",
     "output_type": "stream",
     "text": [
      "She said, \"Hello!\"\n",
      "Line 1\n",
      "Line 2\n"
     ]
    }
   ],
   "source": [
    "print(\"She said, \\\"Hello!\\\"\")\n",
    "print(\"Line 1\\nLine 2\")"
   ]
  },
  {
   "cell_type": "markdown",
   "id": "7708dde5",
   "metadata": {},
   "source": [
    "Q.7. Give an example of the following conditions:\n",
    "(i) Homogeneous list\n",
    "(ii) Heterogeneous set\n",
    "(iii) Homogeneous tuple\n",
    "\n",
    "Ans.\n",
    "(i) Homogeneous List:\n",
    "A homogeneous list in Python contains elements of the same data type.\n",
    "Example:\n",
    "numbers = [1, 2, 3, 4, 5]\n",
    "\n",
    "(ii) Heterogeneous Set:\n",
    "A heterogeneous set in Python can contain elements of different data types.\n",
    "Example:\n",
    "my_set = {1, \"hello\", 3.14, True}\n",
    "\n",
    "(iii) Homogeneous Tuple:\n",
    "A homogeneous tuple in Python consists of elements of the same data type.\n",
    "Example:\n",
    "fruits = (\"apple\", \"banana\", \"cherry\", \"date\")"
   ]
  },
  {
   "cell_type": "markdown",
   "id": "02a039d1",
   "metadata": {},
   "source": [
    "Q.8. Explain the mutable and immutable data types with proper explanation & examples.\n",
    "\n",
    "Ans.\n",
    "Mutable Data Types:\n",
    "\n",
    "Mutable data types are those whose values can be modified after they are created.\n",
    "When a variable holding a mutable data type is modified, the actual object in memory can be changed without creating a new object.\n",
    "Example:( lists, sets, and dictionaries)\n",
    "\n",
    "my_list = [1, 2, 3]\n",
    "my_list.append(4)  # Modifying the list by adding a new element\n",
    "print(my_list)  # Output: [1, 2, 3, 4]\n",
    "\n",
    "Immutable Data Types:\n",
    "\n",
    "Immutable data types are those whose values cannot be modified after they are created.\n",
    "When a variable holding an immutable data type is modified, a new object is created in memory with the modified value, and the variable is reassigned to refer to the new object.\n",
    "Example:(integers, floats, booleans, strings, and tuples)\n",
    "\n",
    "my_string = \"Hello\"\n",
    "my_string = my_string + \" World\"  # Modifying the string by concatenation\n",
    "print(my_string)  # Output: Hello World\n",
    "\n",
    "my_tuple = (1, 2, 3)\n",
    "my_tuple = my_tuple + (4,)  # Modifying the tuple by creating a new tuple with concatenation\n",
    "print(my_tuple)  # Output: (1, 2, 3, 4)"
   ]
  },
  {
   "cell_type": "code",
   "execution_count": 9,
   "id": "7ba34f01",
   "metadata": {},
   "outputs": [
    {
     "name": "stdout",
     "output_type": "stream",
     "text": [
      "[1, 2, 3, 4]\n"
     ]
    }
   ],
   "source": [
    "my_list = [1, 2, 3]\n",
    "my_list.append(4)  # Modifying the list by adding a new element\n",
    "print(my_list)  # Output: [1, 2, 3, 4]"
   ]
  },
  {
   "cell_type": "code",
   "execution_count": 10,
   "id": "410ad277",
   "metadata": {},
   "outputs": [
    {
     "name": "stdout",
     "output_type": "stream",
     "text": [
      "Hello World\n",
      "(1, 2, 3, 4)\n"
     ]
    }
   ],
   "source": [
    "my_string = \"Hello\"\n",
    "my_string = my_string + \" World\"  # Modifying the string by concatenation\n",
    "print(my_string)  # Output: Hello World\n",
    "\n",
    "my_tuple = (1, 2, 3)\n",
    "my_tuple = my_tuple + (4,)  # Modifying the tuple by creating a new tuple with concatenation\n",
    "print(my_tuple)  # Output: (1, 2, 3, 4)"
   ]
  },
  {
   "cell_type": "markdown",
   "id": "d3496741",
   "metadata": {},
   "source": [
    "Q.9. Write a code to create the given structure using only for loop.\n",
    "*\n",
    "***\n",
    "*****\n",
    "*******\n",
    "*********\n",
    "Ans.\n",
    "rows = 5  # Number of rows in the structure\n",
    "\n",
    "for i in range(rows):\n",
    "    for j in range(i + 1):\n",
    "        print(\"*\", end=\"\")\n",
    "    print()  # Print a new line after each row"
   ]
  },
  {
   "cell_type": "code",
   "execution_count": 11,
   "id": "2f29b5d0",
   "metadata": {},
   "outputs": [
    {
     "name": "stdout",
     "output_type": "stream",
     "text": [
      "*\n",
      "**\n",
      "***\n",
      "****\n",
      "*****\n"
     ]
    }
   ],
   "source": [
    "rows = 5  # Number of rows in the structure\n",
    "\n",
    "for i in range(rows):\n",
    "    for j in range(i + 1):\n",
    "        print(\"*\", end=\"\")\n",
    "    print()  # Print a new line after each row"
   ]
  },
  {
   "cell_type": "markdown",
   "id": "29c14c31",
   "metadata": {},
   "source": [
    "Q.10. Write a code to create the given structure using while loop.\n",
    "|||||||||\n",
    "|||||||\n",
    "|||||\n",
    "|||\n",
    "|\n",
    "Ans.\n",
    "rows = 5  # Number of rows in the structure\n",
    "i = rows\n",
    "\n",
    "while i >= 1:\n",
    "    j = i\n",
    "    while j >= 1:\n",
    "        print(\"|\", end=\"\")\n",
    "        j -= 1\n",
    "    print()  # Print a new line after each row\n",
    "    i -= 1"
   ]
  },
  {
   "cell_type": "code",
   "execution_count": 12,
   "id": "18bc22e1",
   "metadata": {},
   "outputs": [
    {
     "name": "stdout",
     "output_type": "stream",
     "text": [
      "|||||\n",
      "||||\n",
      "|||\n",
      "||\n",
      "|\n"
     ]
    }
   ],
   "source": [
    "rows = 5  # Number of rows in the structure\n",
    "i = rows\n",
    "\n",
    "while i >= 1:\n",
    "    j = i\n",
    "    while j >= 1:\n",
    "        print(\"|\", end=\"\")\n",
    "        j -= 1\n",
    "    print()  # Print a new line after each row\n",
    "    i -= 1"
   ]
  },
  {
   "cell_type": "markdown",
   "id": "b062e7ff",
   "metadata": {},
   "source": [
    "Thank you****"
   ]
  }
 ],
 "metadata": {
  "kernelspec": {
   "display_name": "Python 3 (ipykernel)",
   "language": "python",
   "name": "python3"
  },
  "language_info": {
   "codemirror_mode": {
    "name": "ipython",
    "version": 3
   },
   "file_extension": ".py",
   "mimetype": "text/x-python",
   "name": "python",
   "nbconvert_exporter": "python",
   "pygments_lexer": "ipython3",
   "version": "3.9.13"
  }
 },
 "nbformat": 4,
 "nbformat_minor": 5
}
